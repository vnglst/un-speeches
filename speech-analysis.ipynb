{
 "cells": [
  {
   "cell_type": "code",
   "execution_count": 19,
   "metadata": {},
   "outputs": [
    {
     "name": "stdout",
     "output_type": "stream",
     "text": [
      "['https://gadebate.un.org/sites/default/files/gastatements/79/ad_en.pdf', 'https://gadebate.un.org/sites/default/files/gastatements/79/ae_en.pdf', 'https://gadebate.un.org/sites/default/files/gastatements/79/af_en.pdf', 'https://gadebate.un.org/sites/default/files/gastatements/79/ag_en.pdf', 'https://gadebate.un.org/sites/default/files/gastatements/79/al_en.pdf', 'https://gadebate.un.org/sites/default/files/gastatements/79/am_en.pdf', 'https://gadebate.un.org/sites/default/files/gastatements/79/ao_en.pdf', 'https://gadebate.un.org/sites/default/files/gastatements/79/ar_en.pdf', 'https://gadebate.un.org/sites/default/files/gastatements/79/at_en.pdf', 'https://gadebate.un.org/sites/default/files/gastatements/79/au_en.pdf', 'https://gadebate.un.org/sites/default/files/gastatements/79/az_en.pdf', 'https://gadebate.un.org/sites/default/files/gastatements/79/ba_en.pdf', 'https://gadebate.un.org/sites/default/files/gastatements/79/bb_en.pdf', 'https://gadebate.un.org/sites/default/files/gastatements/79/bd_en.pdf', 'https://gadebate.un.org/sites/default/files/gastatements/79/be_en.pdf', 'https://gadebate.un.org/sites/default/files/gastatements/79/bf_en.pdf', 'https://gadebate.un.org/sites/default/files/gastatements/79/bg_en.pdf', 'https://gadebate.un.org/sites/default/files/gastatements/79/bh_en.pdf', 'https://gadebate.un.org/sites/default/files/gastatements/79/bi_en.pdf', 'https://gadebate.un.org/sites/default/files/gastatements/79/bj_en.pdf', 'https://gadebate.un.org/sites/default/files/gastatements/79/bn_en.pdf', 'https://gadebate.un.org/sites/default/files/gastatements/79/bo_en.pdf', 'https://gadebate.un.org/sites/default/files/gastatements/79/br_en.pdf', 'https://gadebate.un.org/sites/default/files/gastatements/79/bs_en.pdf', 'https://gadebate.un.org/sites/default/files/gastatements/79/bt_en.pdf', 'https://gadebate.un.org/sites/default/files/gastatements/79/bw_en.pdf', 'https://gadebate.un.org/sites/default/files/gastatements/79/by_en.pdf', 'https://gadebate.un.org/sites/default/files/gastatements/79/bz_en.pdf', 'https://gadebate.un.org/sites/default/files/gastatements/79/ca_en.pdf', 'https://gadebate.un.org/sites/default/files/gastatements/79/cd_en.pdf', 'https://gadebate.un.org/sites/default/files/gastatements/79/ch_en.pdf', 'https://gadebate.un.org/sites/default/files/gastatements/79/ci_en.pdf', 'https://gadebate.un.org/sites/default/files/gastatements/79/cl_en.pdf', 'https://gadebate.un.org/sites/default/files/gastatements/79/cm_en.pdf', 'https://gadebate.un.org/sites/default/files/gastatements/79/cn_en.pdf', 'https://gadebate.un.org/sites/default/files/gastatements/79/co_en.pdf', 'https://gadebate.un.org/sites/default/files/gastatements/79/cr_en.pdf', 'https://gadebate.un.org/sites/default/files/gastatements/79/cu_en.pdf', 'https://gadebate.un.org/sites/default/files/gastatements/79/cv_en.pdf', 'https://gadebate.un.org/sites/default/files/gastatements/79/cy_en.pdf', 'https://gadebate.un.org/sites/default/files/gastatements/79/cz_en.pdf', 'https://gadebate.un.org/sites/default/files/gastatements/79/de_en.pdf', 'https://gadebate.un.org/sites/default/files/gastatements/79/dj_en.pdf', 'https://gadebate.un.org/sites/default/files/gastatements/79/dk_en.pdf', 'https://gadebate.un.org/sites/default/files/gastatements/79/dm_en.pdf', 'https://gadebate.un.org/sites/default/files/gastatements/79/do_en.pdf', 'https://gadebate.un.org/sites/default/files/gastatements/79/dz_en.pdf', 'https://gadebate.un.org/sites/default/files/gastatements/79/ec_en.pdf', 'https://gadebate.un.org/sites/default/files/gastatements/79/ee_en.pdf', 'https://gadebate.un.org/sites/default/files/gastatements/79/eg_en.pdf', 'https://gadebate.un.org/sites/default/files/gastatements/79/er_en.pdf', 'https://gadebate.un.org/sites/default/files/gastatements/79/es_en.pdf', 'https://gadebate.un.org/sites/default/files/gastatements/79/et_en.pdf', 'https://gadebate.un.org/sites/default/files/gastatements/79/fi_en.pdf', 'https://gadebate.un.org/sites/default/files/gastatements/79/fj_en.pdf', 'https://gadebate.un.org/sites/default/files/gastatements/79/fm_en.pdf', 'https://gadebate.un.org/sites/default/files/gastatements/79/fr_en.pdf', 'https://gadebate.un.org/sites/default/files/gastatements/79/ga_en.pdf', 'https://gadebate.un.org/sites/default/files/gastatements/79/gb_en.pdf', 'https://gadebate.un.org/sites/default/files/gastatements/79/gd_en.pdf', 'https://gadebate.un.org/sites/default/files/gastatements/79/ge_en.pdf', 'https://gadebate.un.org/sites/default/files/gastatements/79/gh_en.pdf', 'https://gadebate.un.org/sites/default/files/gastatements/79/gm_en.pdf', 'https://gadebate.un.org/sites/default/files/gastatements/79/gn_en.pdf', 'https://gadebate.un.org/sites/default/files/gastatements/79/gq_en.pdf', 'https://gadebate.un.org/sites/default/files/gastatements/79/gr_en.pdf', 'https://gadebate.un.org/sites/default/files/gastatements/79/gt_en.pdf', 'https://gadebate.un.org/sites/default/files/gastatements/79/gw_en.pdf', 'https://gadebate.un.org/sites/default/files/gastatements/79/gy_en.pdf', 'https://gadebate.un.org/sites/default/files/gastatements/79/hn_en.pdf', 'https://gadebate.un.org/sites/default/files/gastatements/79/hr_en.pdf', 'https://gadebate.un.org/sites/default/files/gastatements/79/ht_en.pdf', 'https://gadebate.un.org/sites/default/files/gastatements/79/hu_en.pdf', 'https://gadebate.un.org/sites/default/files/gastatements/79/id_en.pdf', 'https://gadebate.un.org/sites/default/files/gastatements/79/ie_en.pdf', 'https://gadebate.un.org/sites/default/files/gastatements/79/il_en.pdf', 'https://gadebate.un.org/sites/default/files/gastatements/79/in_en.pdf', 'https://gadebate.un.org/sites/default/files/gastatements/79/iq_en.pdf', 'https://gadebate.un.org/sites/default/files/gastatements/79/ir_en.pdf', 'https://gadebate.un.org/sites/default/files/gastatements/79/is_en.pdf', 'https://gadebate.un.org/sites/default/files/gastatements/79/it_en.pdf', 'https://gadebate.un.org/sites/default/files/gastatements/79/jm_en.pdf', 'https://gadebate.un.org/sites/default/files/gastatements/79/jo_en.pdf', 'https://gadebate.un.org/sites/default/files/gastatements/79/jp_en.pdf', 'https://gadebate.un.org/sites/default/files/gastatements/79/ke_en.pdf', 'https://gadebate.un.org/sites/default/files/gastatements/79/kg_en.pdf', 'https://gadebate.un.org/sites/default/files/gastatements/79/kh_en.pdf', 'https://gadebate.un.org/sites/default/files/gastatements/79/ki_en.pdf', 'https://gadebate.un.org/sites/default/files/gastatements/79/km_en.pdf', 'https://gadebate.un.org/sites/default/files/gastatements/79/kn_en.pdf', 'https://gadebate.un.org/sites/default/files/gastatements/79/kp_en.pdf', 'https://gadebate.un.org/sites/default/files/gastatements/79/kr_en.pdf', 'https://gadebate.un.org/sites/default/files/gastatements/79/kw_en.pdf', 'https://gadebate.un.org/sites/default/files/gastatements/79/kz_en.pdf', 'https://gadebate.un.org/sites/default/files/gastatements/79/la_en.pdf', 'https://gadebate.un.org/sites/default/files/gastatements/79/lb_en.pdf', 'https://gadebate.un.org/sites/default/files/gastatements/79/lc_en.pdf', 'https://gadebate.un.org/sites/default/files/gastatements/79/li_en.pdf', 'https://gadebate.un.org/sites/default/files/gastatements/79/lk_en.pdf', 'https://gadebate.un.org/sites/default/files/gastatements/79/lr_en.pdf', 'https://gadebate.un.org/sites/default/files/gastatements/79/ls_en.pdf', 'https://gadebate.un.org/sites/default/files/gastatements/79/lt_en.pdf', 'https://gadebate.un.org/sites/default/files/gastatements/79/lu_en.pdf', 'https://gadebate.un.org/sites/default/files/gastatements/79/lv_en.pdf', 'https://gadebate.un.org/sites/default/files/gastatements/79/ly_en.pdf', 'https://gadebate.un.org/sites/default/files/gastatements/79/ma_en.pdf', 'https://gadebate.un.org/sites/default/files/gastatements/79/mc_en.pdf', 'https://gadebate.un.org/sites/default/files/gastatements/79/md_en.pdf', 'https://gadebate.un.org/sites/default/files/gastatements/79/me_en.pdf', 'https://gadebate.un.org/sites/default/files/gastatements/79/mg_en.pdf', 'https://gadebate.un.org/sites/default/files/gastatements/79/mh_en.pdf', 'https://gadebate.un.org/sites/default/files/gastatements/79/mk_en.pdf', 'https://gadebate.un.org/sites/default/files/gastatements/79/ml_en.pdf', 'https://gadebate.un.org/sites/default/files/gastatements/79/mm_en.pdf', 'https://gadebate.un.org/sites/default/files/gastatements/79/mn_en.pdf', 'https://gadebate.un.org/sites/default/files/gastatements/79/mr_en.pdf', 'https://gadebate.un.org/sites/default/files/gastatements/79/mt_en.pdf', 'https://gadebate.un.org/sites/default/files/gastatements/79/mu_en.pdf', 'https://gadebate.un.org/sites/default/files/gastatements/79/mv_en.pdf', 'https://gadebate.un.org/sites/default/files/gastatements/79/mw_en.pdf', 'https://gadebate.un.org/sites/default/files/gastatements/79/mx_en.pdf', 'https://gadebate.un.org/sites/default/files/gastatements/79/my_en.pdf', 'https://gadebate.un.org/sites/default/files/gastatements/79/mz_en.pdf', 'https://gadebate.un.org/sites/default/files/gastatements/79/na_en.pdf', 'https://gadebate.un.org/sites/default/files/gastatements/79/ne_en.pdf', 'https://gadebate.un.org/sites/default/files/gastatements/79/ng_en.pdf', 'https://gadebate.un.org/sites/default/files/gastatements/79/ni_en.pdf', 'https://gadebate.un.org/sites/default/files/gastatements/79/nl_en.pdf', 'https://gadebate.un.org/sites/default/files/gastatements/79/no_en.pdf', 'https://gadebate.un.org/sites/default/files/gastatements/79/np_en.pdf', 'https://gadebate.un.org/sites/default/files/gastatements/79/nr_en.pdf', 'https://gadebate.un.org/sites/default/files/gastatements/79/nz_en.pdf', 'https://gadebate.un.org/sites/default/files/gastatements/79/om_en.pdf', 'https://gadebate.un.org/sites/default/files/gastatements/79/pa_en.pdf', 'https://gadebate.un.org/sites/default/files/gastatements/79/pe_en.pdf', 'https://gadebate.un.org/sites/default/files/gastatements/79/pg_en.pdf', 'https://gadebate.un.org/sites/default/files/gastatements/79/ph_en.pdf', 'https://gadebate.un.org/sites/default/files/gastatements/79/pk_en.pdf', 'https://gadebate.un.org/sites/default/files/gastatements/79/pl_en.pdf', 'https://gadebate.un.org/sites/default/files/gastatements/79/pt_en.pdf', 'https://gadebate.un.org/sites/default/files/gastatements/79/pw_en.pdf', 'https://gadebate.un.org/sites/default/files/gastatements/79/py_en.pdf', 'https://gadebate.un.org/sites/default/files/gastatements/79/qa_en.pdf', 'https://gadebate.un.org/sites/default/files/gastatements/79/ro_en.pdf', 'https://gadebate.un.org/sites/default/files/gastatements/79/rs_en.pdf', 'https://gadebate.un.org/sites/default/files/gastatements/79/ru_en.pdf', 'https://gadebate.un.org/sites/default/files/gastatements/79/rw_en.pdf', 'https://gadebate.un.org/sites/default/files/gastatements/79/sa_en.pdf', 'https://gadebate.un.org/sites/default/files/gastatements/79/sb_en.pdf', 'https://gadebate.un.org/sites/default/files/gastatements/79/sc_en.pdf', 'https://gadebate.un.org/sites/default/files/gastatements/79/sd_en.pdf', 'https://gadebate.un.org/sites/default/files/gastatements/79/se_en.pdf', 'https://gadebate.un.org/sites/default/files/gastatements/79/sg_en.pdf', 'https://gadebate.un.org/sites/default/files/gastatements/79/si_en.pdf', 'https://gadebate.un.org/sites/default/files/gastatements/79/sk_en.pdf', 'https://gadebate.un.org/sites/default/files/gastatements/79/sl_en.pdf', 'https://gadebate.un.org/sites/default/files/gastatements/79/sm_en.pdf', 'https://gadebate.un.org/sites/default/files/gastatements/79/sn_en.pdf', 'https://gadebate.un.org/sites/default/files/gastatements/79/so_en.pdf', 'https://gadebate.un.org/sites/default/files/gastatements/79/sr_en.pdf', 'https://gadebate.un.org/sites/default/files/gastatements/79/ss_en.pdf', 'https://gadebate.un.org/sites/default/files/gastatements/79/st_en.pdf', 'https://gadebate.un.org/sites/default/files/gastatements/79/sv_en.pdf', 'https://gadebate.un.org/sites/default/files/gastatements/79/sy_en.pdf', 'https://gadebate.un.org/sites/default/files/gastatements/79/sz_en.pdf', 'https://gadebate.un.org/sites/default/files/gastatements/79/td_en.pdf', 'https://gadebate.un.org/sites/default/files/gastatements/79/tg_en.pdf', 'https://gadebate.un.org/sites/default/files/gastatements/79/th_en.pdf', 'https://gadebate.un.org/sites/default/files/gastatements/79/tj_en.pdf', 'https://gadebate.un.org/sites/default/files/gastatements/79/tl_en.pdf', 'https://gadebate.un.org/sites/default/files/gastatements/79/tm_en.pdf', 'https://gadebate.un.org/sites/default/files/gastatements/79/tn_en.pdf', 'https://gadebate.un.org/sites/default/files/gastatements/79/to_en.pdf', 'https://gadebate.un.org/sites/default/files/gastatements/79/tr_en.pdf', 'https://gadebate.un.org/sites/default/files/gastatements/79/tt_en.pdf', 'https://gadebate.un.org/sites/default/files/gastatements/79/tv_en.pdf', 'https://gadebate.un.org/sites/default/files/gastatements/79/tz_en.pdf', 'https://gadebate.un.org/sites/default/files/gastatements/79/ua_en.pdf', 'https://gadebate.un.org/sites/default/files/gastatements/79/ug_en.pdf', 'https://gadebate.un.org/sites/default/files/gastatements/79/us_en.pdf', 'https://gadebate.un.org/sites/default/files/gastatements/79/uy_en.pdf', 'https://gadebate.un.org/sites/default/files/gastatements/79/uz_en.pdf', 'https://gadebate.un.org/sites/default/files/gastatements/79/vc_en.pdf', 'https://gadebate.un.org/sites/default/files/gastatements/79/ve_en.pdf', 'https://gadebate.un.org/sites/default/files/gastatements/79/vn_en.pdf', 'https://gadebate.un.org/sites/default/files/gastatements/79/vu_en.pdf', 'https://gadebate.un.org/sites/default/files/gastatements/79/ws_en.pdf', 'https://gadebate.un.org/sites/default/files/gastatements/79/ye_en.pdf', 'https://gadebate.un.org/sites/default/files/gastatements/79/za_en.pdf', 'https://gadebate.un.org/sites/default/files/gastatements/79/zm_en.pdf', 'https://gadebate.un.org/sites/default/files/gastatements/79/zw_en.pdf']\n"
     ]
    }
   ],
   "source": [
    "import json\n",
    "\n",
    "with open('countries.json', 'r') as file:\n",
    "    countryList = json.load(file)[\"countries\"]\n",
    "\n",
    "\n",
    "url_template = \"https://gadebate.un.org/sites/default/files/gastatements/79/{code}_en.pdf\"\n",
    "pdf_urls = [url_template.format(code=country['iso_code'].lower()) for country in countryList]\n",
    "\n",
    "print(pdf_urls)"
   ]
  },
  {
   "cell_type": "code",
   "execution_count": 20,
   "metadata": {},
   "outputs": [
    {
     "name": "stdout",
     "output_type": "stream",
     "text": [
      "Note: you may need to restart the kernel to use updated packages.\n"
     ]
    }
   ],
   "source": [
    "%pip install requests -q"
   ]
  },
  {
   "cell_type": "code",
   "execution_count": 21,
   "metadata": {},
   "outputs": [
    {
     "name": "stdout",
     "output_type": "stream",
     "text": [
      "Failed to download https://gadebate.un.org/sites/default/files/gastatements/79/ad_en.pdf: 404 Client Error: Not Found for url: https://gadebate.un.org/sites/default/files/gastatements/79/ad_en.pdf\n",
      "Downloaded: ./speeches/ae_en.pdf\n",
      "Failed to download https://gadebate.un.org/sites/default/files/gastatements/79/af_en.pdf: 404 Client Error: Not Found for url: https://gadebate.un.org/sites/default/files/gastatements/79/af_en.pdf\n",
      "Downloaded: ./speeches/ag_en.pdf\n",
      "Downloaded: ./speeches/al_en.pdf\n",
      "Downloaded: ./speeches/am_en.pdf\n",
      "Downloaded: ./speeches/ao_en.pdf\n",
      "Failed to download https://gadebate.un.org/sites/default/files/gastatements/79/ar_en.pdf: 404 Client Error: Not Found for url: https://gadebate.un.org/sites/default/files/gastatements/79/ar_en.pdf\n",
      "Downloaded: ./speeches/at_en.pdf\n",
      "Downloaded: ./speeches/au_en.pdf\n"
     ]
    }
   ],
   "source": [
    "import os\n",
    "import requests\n",
    "import time\n",
    "\n",
    "os.makedirs('./speeches', exist_ok=True)\n",
    "\n",
    "for url in pdf_urls[:10]:\n",
    "    try:\n",
    "        response = requests.get(url)\n",
    "        response.raise_for_status()\n",
    "        filename = os.path.join('./speeches', url.split('/')[-1])\n",
    "        with open(filename, 'wb') as f:\n",
    "            f.write(response.content)\n",
    "        print(f\"Downloaded: {filename}\")\n",
    "        time.sleep(0.2)\n",
    "    except requests.exceptions.RequestException as e:\n",
    "        print(f\"Failed to download {url}: {e}\")\n"
   ]
  },
  {
   "cell_type": "code",
   "execution_count": 22,
   "metadata": {},
   "outputs": [
    {
     "name": "stdout",
     "output_type": "stream",
     "text": [
      "Note: you may need to restart the kernel to use updated packages.\n"
     ]
    }
   ],
   "source": [
    "%pip install pytesseract pillow pdf2image -q"
   ]
  },
  {
   "cell_type": "code",
   "execution_count": 23,
   "metadata": {},
   "outputs": [
    {
     "name": "stdout",
     "output_type": "stream",
     "text": [
      "Converted ./speeches/al_en.pdf to ./speeches/al_en.txt\n",
      "Converted ./speeches/at_en.pdf to ./speeches/at_en.txt\n",
      "Converted ./speeches/ao_en.pdf to ./speeches/ao_en.txt\n",
      "Converted ./speeches/au_en.pdf to ./speeches/au_en.txt\n",
      "Converted ./speeches/am_en.pdf to ./speeches/am_en.txt\n",
      "Converted ./speeches/ae_en.pdf to ./speeches/ae_en.txt\n",
      "Converted ./speeches/ag_en.pdf to ./speeches/ag_en.txt\n"
     ]
    }
   ],
   "source": [
    "import pytesseract\n",
    "from pdf2image import convert_from_path\n",
    "import glob\n",
    "\n",
    "# Get list of PDF files in the folder\n",
    "pdf_files = glob.glob('./speeches/*.pdf')\n",
    "\n",
    "for pdf_file in pdf_files:\n",
    "    # Convert PDF to images\n",
    "    images = convert_from_path(pdf_file)\n",
    "    \n",
    "    # Perform OCR on each image and collect the text\n",
    "    text = \"\"\n",
    "    for image in images:\n",
    "        text += pytesseract.image_to_string(image)\n",
    "    \n",
    "    # Write the text to a file with the same name but .txt extension\n",
    "    txt_file = pdf_file.replace('.pdf', '.txt')\n",
    "    with open(txt_file, 'w') as f:\n",
    "        f.write(text)\n",
    "    \n",
    "    print(f\"Converted {pdf_file} to {txt_file}\")"
   ]
  }
 ],
 "metadata": {
  "kernelspec": {
   "display_name": "myenv",
   "language": "python",
   "name": "python3"
  },
  "language_info": {
   "codemirror_mode": {
    "name": "ipython",
    "version": 3
   },
   "file_extension": ".py",
   "mimetype": "text/x-python",
   "name": "python",
   "nbconvert_exporter": "python",
   "pygments_lexer": "ipython3",
   "version": "3.12.6"
  }
 },
 "nbformat": 4,
 "nbformat_minor": 2
}
